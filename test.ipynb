{
 "cells": [
  {
   "cell_type": "code",
   "execution_count": 2,
   "metadata": {},
   "outputs": [],
   "source": [
    "from subprocess import Popen, PIPE, run"
   ]
  },
  {
   "cell_type": "code",
   "execution_count": 18,
   "metadata": {},
   "outputs": [],
   "source": [
    "def open_app(app: str):\n",
    "  try:\n",
    "    Popen('open /Applications/' + app + \".app\", shell=True, errors=True).check_output()\n",
    "  except:\n",
    "    Popen('open /System/Applications/' + app + \".app\", shell=True)\n",
    "\n",
    "\n",
    "def open_app_fullscreen(app: str):\n",
    "  s = f'''\n",
    "        tell application \"System Events\"\n",
    "          set appRunning to (name of processes) contains \"{app}\"\n",
    "        end tell\n",
    "\n",
    "        \n",
    "        tell application \"{app}\"\n",
    "          if not appRunning then\n",
    "            make new document\n",
    "          end if\n",
    "          \n",
    "          activate\n",
    "          reopen\n",
    "          \n",
    "          tell application \"System Events\" to tell process \"{app}\"\n",
    "            set value of attribute \"AXFullScreen\" of window 1 to true\n",
    "          end tell\n",
    "        end tell\n",
    "        '''\n",
    "\n",
    "    # set value of attribute \"AXFullScreen\" of window 1 to true\n",
    "    # set position of window 1 to {0, 0}\n",
    "    # set size of window 1 to {4000, 4000}\n",
    "  Popen(['osascript', '-e', s])\n",
    "  \n",
    "def go_to_last_applilcation():\n",
    "    script = f'''\n",
    "    tell application \"System Events\"\n",
    "        key code 48 using command down  -- (Tab + Command)\n",
    "    end tell\n",
    "    '''\n",
    "    run([\"osascript\", \"-e\", script])\n",
    "    \n",
    "def switch_desktop(dir: str, count=1):\n",
    "    script = f'''\n",
    "    tell application \"System Events\"\n",
    "        key code 123 using control down  -- Left arrow (Ctrl + Left)\n",
    "    end tell\n",
    "    '''\n",
    "    \n",
    "    if dir == \"right\":\n",
    "        script = f'''\n",
    "        tell application \"System Events\"\n",
    "            key code 124 using control down  -- Right arrow (Ctrl + Right)\n",
    "        end tell\n",
    "        '''\n",
    "        \n",
    "    script = script * count\n",
    "\n",
    "    run([\"osascript\", \"-e\", script])\n",
    "\n",
    "def toggle_play_pause_music():\n",
    "    script = '''\n",
    "    tell application \"System Events\"\n",
    "        set frontApp to name of first application process whose frontmost is true\n",
    "    end tell\n",
    "    \n",
    "    if frontApp is \"Spotify\" then\n",
    "        tell application \"Spotify\" to playpause\n",
    "    else if frontApp is \"QuickTime Player\" then\n",
    "        tell application \"QuickTime Player\" to tell document 1 to play\n",
    "    else if frontApp is \"VLC\" then\n",
    "        tell application \"VLC\" to play\n",
    "    else\n",
    "        tell application \"System Events\" to key code 49 -- Simulates pressing the spacebar\n",
    "    end if\n",
    "    '''\n",
    "    run([\"osascript\", \"-e\", script])\n",
    "\n",
    "\n",
    "def toggle_play_pause_on_app(delay=0.5):\n",
    "    script = f'''\n",
    "    delay {delay}\n",
    "    tell application \"System Events\"\n",
    "        key code 49 -- (Space)\n",
    "    end tell\n",
    "    '''\n",
    "    run([\"osascript\", \"-e\", script])\n",
    "    \n",
    "    \n",
    "def volume_up():\n",
    "  s = '''set theOutput to output volume of (get volume settings)\n",
    "        set newVolume to theOutput + 6.25\n",
    "        if newVolume > 100 then set newVolume to 100\n",
    "        set volume output volume newVolume\n",
    "        display notification \"Volume set to \" & newVolume & \"%\" with title \"Volume Up\"\n",
    "        '''\n",
    "\n",
    "  Popen(['osascript', '-e', s])\n",
    "\n",
    "\n",
    "def volume_down():\n",
    "  s = '''set theOutput to output volume of (get volume settings)\n",
    "        set newVolume to theOutput - 6.25\n",
    "        if newVolume < 0 then set newVolume to 0\n",
    "        set volume output volume newVolume\n",
    "        display notification \"Volume set to \" & newVolume & \"%\" with title \"Volume Down\"\n",
    "        '''\n",
    "\n",
    "  Popen(['osascript', '-e', s])\n",
    "\n",
    "\n"
   ]
  },
  {
   "cell_type": "code",
   "execution_count": 71,
   "metadata": {},
   "outputs": [],
   "source": [
    "# open_app_fullscreen(\"Notes\")\n",
    "# switch_desktop(\"right\", 10)\n",
    "# go_to_last_applilcation()\n",
    "# open_app_fullscreen(\"Spotify\")\n",
    "# toggle_play_pause_on_app()\n",
    "volume_down()"
   ]
  },
  {
   "cell_type": "code",
   "execution_count": null,
   "metadata": {},
   "outputs": [
    {
     "name": "stderr",
     "output_type": "stream",
     "text": [
      "The file /Applications/Notes.app does not exist.\n"
     ]
    }
   ],
   "source": [
    "    \n",
    "\n",
    "# open_app_2(\"Notes\")\n",
    "# open_app_fullscreen(\"Spotify\")"
   ]
  },
  {
   "cell_type": "code",
   "execution_count": null,
   "metadata": {},
   "outputs": [],
   "source": []
  },
  {
   "cell_type": "code",
   "execution_count": null,
   "metadata": {},
   "outputs": [],
   "source": [
    "\n",
    "\n",
    "# Test it\n",
    "toggle_play_pause()\n"
   ]
  },
  {
   "cell_type": "code",
   "execution_count": 34,
   "metadata": {},
   "outputs": [],
   "source": [
    "toggle_play_pause()"
   ]
  },
  {
   "cell_type": "code",
   "execution_count": null,
   "metadata": {},
   "outputs": [
    {
     "data": {
      "text/plain": [
       "CompletedProcess(args=['osascript', '-e', '\\non is_running(appName)\\n    tell application \"System Events\" to (name of processes) contains appName\\nend is_running\\n\\nif is_running(\"Music\") then\\n    tell application \"Music\"\\n        playpause\\n    end tell\\n\\nelse if is_running(\"Spotify\") then\\n    tell application \"Spotify\"\\n        playpause\\n    end tell\\nend if\\n'], returncode=0)"
      ]
     },
     "execution_count": 62,
     "metadata": {},
     "output_type": "execute_result"
    }
   ],
   "source": [
    "def play_pause_music():\n",
    "    s = '''\n",
    "    on is_running(appName)\n",
    "        tell application \"System Events\" to (name of processes) contains appName\n",
    "    end is_running\n",
    "\n",
    "    if is_running(\"Music\") then\n",
    "        tell application \"Music\"\n",
    "            playpause\n",
    "        end tell\n",
    "\n",
    "    else if is_running(\"Spotify\") then\n",
    "        tell application \"Spotify\"\n",
    "            playpause\n",
    "        end tell\n",
    "    end if\n",
    "    \n",
    "    '''\n",
    "    run([\"osascript\", \"-e\", s])"
   ]
  },
  {
   "cell_type": "code",
   "execution_count": 61,
   "metadata": {},
   "outputs": [
    {
     "name": "stderr",
     "output_type": "stream",
     "text": [
      "672:675: syntax error: Expected end of line, etc. but found identifier. (-2741)\n"
     ]
    },
    {
     "data": {
      "text/plain": [
       "CompletedProcess(args=['osascript', '-e', '\\nif application \"Google Chrome\" is running then\\n\\ttell application \"Google Chrome\"\\n\\t\\tactivate\\n\\t\\trepeat with w in (windows)\\n\\t\\t\\tset j to 0\\n\\t\\t\\trepeat with t in (tabs of w)\\n\\t\\t\\t\\tset j to j + 1\\n\\t\\t\\t\\ttell t\\n\\t\\t\\t\\t\\tif URL starts with \"http://www.youtube.com/watch\" or URL starts with \"https://www.youtube.com/watch\" then\\n\\t\\t\\t\\t\\t\\tset (active tab index of w) to j\\n\\t\\t\\t\\t\\t\\tset index of w to 1\\n\\t\\t\\t\\t\\t\\ttell application \"System Events\" to tell process \"Google Chrome\"\\n\\t\\t\\t\\t\\t\\t\\t-- toggle play/pause\\n\\t\\t\\t\\t\\t\\t\\tkeystroke \"k\"\\n\\t\\t\\t\\t\\t\\t\\t-- cmd+tab back to previous application\\n\\t\\t\\t\\t\\t\\t\\tkeystroke tab using {command down}\\n\\t\\t\\t\\t\\t\\t\\t\\n\\t\\t\\t\\t\\t\\tend tell\\n\\t\\t\\t\\t\\tend if\\n\\t\\t\\t\\tend tell\\n\\t\\t\\tend repeat\\n\\t\\tend repeat\\n\\tend tell\\nend ifk\\n'], returncode=1)"
      ]
     },
     "execution_count": 61,
     "metadata": {},
     "output_type": "execute_result"
    }
   ],
   "source": [
    "s = '''\n",
    "if application \"Google Chrome\" is running then\n",
    "\ttell application \"Google Chrome\"\n",
    "\t\tactivate\n",
    "\t\trepeat with w in (windows)\n",
    "\t\t\tset j to 0\n",
    "\t\t\trepeat with t in (tabs of w)\n",
    "\t\t\t\tset j to j + 1\n",
    "\t\t\t\ttell t\n",
    "\t\t\t\t\tif URL starts with \"http://www.youtube.com/watch\" or URL starts with \"https://www.youtube.com/watch\" then\n",
    "\t\t\t\t\t\tset (active tab index of w) to j\n",
    "\t\t\t\t\t\tset index of w to 1\n",
    "\t\t\t\t\t\ttell application \"System Events\" to tell process \"Google Chrome\"\n",
    "\t\t\t\t\t\t\t-- toggle play/pause\n",
    "\t\t\t\t\t\t\tkeystroke \"k\"\n",
    "\t\t\t\t\t\t\t-- cmd+tab back to previous application\n",
    "\t\t\t\t\t\t\tkeystroke tab using {command down}\n",
    "\t\t\t\t\t\t\t\n",
    "\t\t\t\t\t\tend tell\n",
    "\t\t\t\t\tend if\n",
    "\t\t\t\tend tell\n",
    "\t\t\tend repeat\n",
    "\t\tend repeat\n",
    "\tend tell\n",
    "end ifk\n",
    "'''\n",
    "subprocess.run([\"osascript\", \"-e\", s])"
   ]
  },
  {
   "cell_type": "code",
   "execution_count": 19,
   "metadata": {},
   "outputs": [],
   "source": [
    "import Quartz\n",
    "\n",
    "# NSEvent.h\n",
    "NSSystemDefined = 14\n",
    "\n",
    "# hidsystem/ev_keymap.h\n",
    "NX_KEYTYPE_SOUND_UP = 0\n",
    "NX_KEYTYPE_SOUND_DOWN = 1\n",
    "NX_KEYTYPE_PLAY = 16\n",
    "NX_KEYTYPE_NEXT = 17\n",
    "NX_KEYTYPE_PREVIOUS = 18\n",
    "NX_KEYTYPE_FAST = 19\n",
    "NX_KEYTYPE_REWIND = 20\n",
    "\n",
    "def HIDPostAuxKey(key):\n",
    "  def doKey(down):\n",
    "    ev = Quartz.NSEvent.otherEventWithType_location_modifierFlags_timestamp_windowNumber_context_subtype_data1_data2_(\n",
    "      NSSystemDefined, # type\n",
    "      (0,0), # location\n",
    "      0xa00 if down else 0xb00, # flags\n",
    "      0, # timestamp\n",
    "      0, # window\n",
    "      0, # ctx\n",
    "      8, # subtype\n",
    "      (key << 16) | ((0xa if down else 0xb) << 8), # data1\n",
    "      -1 # data2\n",
    "      )\n",
    "    cev = ev.CGEvent()\n",
    "    Quartz.CGEventPost(0, cev)\n",
    "  doKey(True)\n",
    "  doKey(False)\n",
    "\n"
   ]
  },
  {
   "cell_type": "code",
   "execution_count": 21,
   "metadata": {},
   "outputs": [],
   "source": [
    "HIDPostAuxKey(NX_KEYTYPE_SOUND_UP)\n",
    "\n"
   ]
  },
  {
   "cell_type": "code",
   "execution_count": 18,
   "metadata": {},
   "outputs": [
    {
     "data": {
      "text/plain": [
       "CompletedProcess(args=['osascript', '-e', '\\n            tell application \"System Events\"\\n                key code 46 using command down  -- (Cmd + M)\\n            end tell\\n            '], returncode=0)"
      ]
     },
     "execution_count": 18,
     "metadata": {},
     "output_type": "execute_result"
    }
   ],
   "source": [
    "def switch_desktop(dir: str, count=1):\n",
    "    s = f'''\n",
    "    tell application \"System Events\"\n",
    "        key code 46 using command down  -- (Cmd + M)\n",
    "    end tell\n",
    "    '''\n",
    "    run([\"osascript\", \"-e\", s])\n",
    "    "
   ]
  },
  {
   "cell_type": "code",
   "execution_count": null,
   "metadata": {},
   "outputs": [
    {
     "data": {
      "text/plain": [
       "CompletedProcess(args=['osascript', '-e', '\\n    tell application \"System Events\"\\n      key code 3 using command down\\n      key code 63 using command down\\n    end tell\\n    '], returncode=0)"
      ]
     },
     "execution_count": 31,
     "metadata": {},
     "output_type": "execute_result"
    },
    {
     "ename": "",
     "evalue": "",
     "output_type": "error",
     "traceback": [
      "\u001b[1;31mThe Kernel crashed while executing code in the current cell or a previous cell. \n",
      "\u001b[1;31mPlease review the code in the cell(s) to identify a possible cause of the failure. \n",
      "\u001b[1;31mClick <a href='https://aka.ms/vscodeJupyterKernelCrash'>here</a> for more info. \n",
      "\u001b[1;31mView Jupyter <a href='command:jupyter.viewOutput'>log</a> for further details."
     ]
    }
   ],
   "source": [
    "s = f'''\n",
    "    tell application \"System Events\"\n",
    "      key code 3 using command down\n",
    "      key code 63 using command down\n",
    "    end tell\n",
    "    '''\n",
    "run(['osascript', '-e', s])\n"
   ]
  },
  {
   "cell_type": "code",
   "execution_count": null,
   "metadata": {},
   "outputs": [],
   "source": []
  }
 ],
 "metadata": {
  "kernelspec": {
   "display_name": ".venv",
   "language": "python",
   "name": "python3"
  },
  "language_info": {
   "codemirror_mode": {
    "name": "ipython",
    "version": 3
   },
   "file_extension": ".py",
   "mimetype": "text/x-python",
   "name": "python",
   "nbconvert_exporter": "python",
   "pygments_lexer": "ipython3",
   "version": "3.12.2"
  }
 },
 "nbformat": 4,
 "nbformat_minor": 2
}
